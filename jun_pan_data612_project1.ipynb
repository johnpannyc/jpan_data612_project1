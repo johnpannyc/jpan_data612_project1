{
 "cells": [
  {
   "cell_type": "markdown",
   "metadata": {},
   "source": [
    " Briefly describe the recommender system that you’re going to build out from a business perspective"
   ]
  },
  {
   "cell_type": "markdown",
   "metadata": {},
   "source": [
    "I built a simple recommender system for Data Science Books. This system will take readers input ratings for their familiar data science books and predict the reader's preference for possible unreaded books. This is similar in approach to systems used by Netflix, Hulu and Amazon Prime."
   ]
  },
  {
   "cell_type": "markdown",
   "metadata": {},
   "source": [
    "build out my own toy dataset"
   ]
  },
  {
   "cell_type": "markdown",
   "metadata": {},
   "source": [
    "I have collected data on 5 popular data science books: Machine Learning (Tom Mitchell), The Master of Algorithm (Pedro Domingos), R Cookbook (Paul Teetor), Artificial Intelligence: A Modern Approach(Stuart Russell and Peter Norvig),and Natrual laguage Processing with Python (Steven Bird, Ewan Klein and Edward Loper) . Friends were asked to rate these shows from 1 for 'Awful' to 5 for 'Outstanding' and to leave blank un-read. The data will be used to generate a basic recommendation system for a test set of withheld data and unread books."
   ]
  },
  {
   "cell_type": "markdown",
   "metadata": {},
   "source": [
    "Load Data and create a user-item matrix"
   ]
  },
  {
   "cell_type": "code",
   "execution_count": 15,
   "metadata": {},
   "outputs": [],
   "source": [
    "#import packages to set working environment:\n",
    "import pandas as pd\n",
    "from matplotlib import pyplot as plt"
   ]
  },
  {
   "cell_type": "code",
   "execution_count": 16,
   "metadata": {},
   "outputs": [
    {
     "data": {
      "text/html": [
       "<div>\n",
       "<style scoped>\n",
       "    .dataframe tbody tr th:only-of-type {\n",
       "        vertical-align: middle;\n",
       "    }\n",
       "\n",
       "    .dataframe tbody tr th {\n",
       "        vertical-align: top;\n",
       "    }\n",
       "\n",
       "    .dataframe thead th {\n",
       "        text-align: right;\n",
       "    }\n",
       "</style>\n",
       "<table border=\"1\" class=\"dataframe\">\n",
       "  <thead>\n",
       "    <tr style=\"text-align: right;\">\n",
       "      <th></th>\n",
       "      <th>Artificial Intelligence: A Modern Approach</th>\n",
       "      <th>Machine Learning</th>\n",
       "      <th>Natrual laguage Processing with Python</th>\n",
       "      <th>R Cookbook</th>\n",
       "      <th>The Master of Algorithm</th>\n",
       "      <th>Unnamed: 0</th>\n",
       "    </tr>\n",
       "  </thead>\n",
       "  <tbody>\n",
       "    <tr>\n",
       "      <th>0</th>\n",
       "      <td>3.0</td>\n",
       "      <td>2.0</td>\n",
       "      <td>5.0</td>\n",
       "      <td>4</td>\n",
       "      <td>3.0</td>\n",
       "      <td>0</td>\n",
       "    </tr>\n",
       "    <tr>\n",
       "      <th>1</th>\n",
       "      <td>NaN</td>\n",
       "      <td>3.0</td>\n",
       "      <td>4.0</td>\n",
       "      <td>5</td>\n",
       "      <td>3.0</td>\n",
       "      <td>1</td>\n",
       "    </tr>\n",
       "    <tr>\n",
       "      <th>2</th>\n",
       "      <td>NaN</td>\n",
       "      <td>NaN</td>\n",
       "      <td>5.0</td>\n",
       "      <td>4</td>\n",
       "      <td>3.0</td>\n",
       "      <td>2</td>\n",
       "    </tr>\n",
       "    <tr>\n",
       "      <th>3</th>\n",
       "      <td>4.0</td>\n",
       "      <td>3.0</td>\n",
       "      <td>4.0</td>\n",
       "      <td>4</td>\n",
       "      <td>NaN</td>\n",
       "      <td>3</td>\n",
       "    </tr>\n",
       "    <tr>\n",
       "      <th>4</th>\n",
       "      <td>3.0</td>\n",
       "      <td>4.0</td>\n",
       "      <td>4.0</td>\n",
       "      <td>5</td>\n",
       "      <td>2.0</td>\n",
       "      <td>4</td>\n",
       "    </tr>\n",
       "    <tr>\n",
       "      <th>5</th>\n",
       "      <td>4.0</td>\n",
       "      <td>2.0</td>\n",
       "      <td>NaN</td>\n",
       "      <td>4</td>\n",
       "      <td>4.0</td>\n",
       "      <td>5</td>\n",
       "    </tr>\n",
       "  </tbody>\n",
       "</table>\n",
       "</div>"
      ],
      "text/plain": [
       "   Artificial Intelligence: A Modern Approach  Machine Learning  \\\n",
       "0                                         3.0               2.0   \n",
       "1                                         NaN               3.0   \n",
       "2                                         NaN               NaN   \n",
       "3                                         4.0               3.0   \n",
       "4                                         3.0               4.0   \n",
       "5                                         4.0               2.0   \n",
       "\n",
       "   Natrual laguage Processing with Python  R Cookbook  \\\n",
       "0                                     5.0           4   \n",
       "1                                     4.0           5   \n",
       "2                                     5.0           4   \n",
       "3                                     4.0           4   \n",
       "4                                     4.0           5   \n",
       "5                                     NaN           4   \n",
       "\n",
       "   The Master of Algorithm  Unnamed: 0  \n",
       "0                      3.0           0  \n",
       "1                      3.0           1  \n",
       "2                      3.0           2  \n",
       "3                      NaN           3  \n",
       "4                      2.0           4  \n",
       "5                      4.0           5  "
      ]
     },
     "execution_count": 16,
     "metadata": {},
     "output_type": "execute_result"
    }
   ],
   "source": [
    "bk_df = pd.read_csv('https://raw.githubusercontent.com/johnpannyc/jpan_data612_project1/master/data_science_book_rating.csv')\n",
    "bk_df = bk_df[sorted(bk_df.columns)]\n",
    "bk_df.head(6)"
   ]
  },
  {
   "cell_type": "code",
   "execution_count": 17,
   "metadata": {},
   "outputs": [
    {
     "data": {
      "text/plain": [
       "(6, 6)"
      ]
     },
     "execution_count": 17,
     "metadata": {},
     "output_type": "execute_result"
    }
   ],
   "source": [
    "bk_df.shape"
   ]
  },
  {
   "cell_type": "code",
   "execution_count": 18,
   "metadata": {},
   "outputs": [
    {
     "name": "stdout",
     "output_type": "stream",
     "text": [
      "3.4193548387096775\n",
      "Artificial Intelligence: A Modern Approach    3.500000\n",
      "Machine Learning                              2.800000\n",
      "Natrual laguage Processing with Python        4.400000\n",
      "R Cookbook                                    4.333333\n",
      "The Master of Algorithm                       3.000000\n",
      "Unnamed: 0                                    2.500000\n",
      "dtype: float64\n",
      "0    2.833333\n",
      "1    3.200000\n",
      "2    3.500000\n",
      "3    3.600000\n",
      "4    3.666667\n",
      "5    3.800000\n",
      "dtype: float64\n"
     ]
    }
   ],
   "source": [
    "#calculate the overall mean of all the dataframe\n",
    "bk_df_mean = bk_df.stack().mean(skipna = True) #stack makes the DF one column, mean takes the mean of that colunm.\n",
    "print(bk_df_mean) \n",
    "#below are the means for the rows and the columns of the dataframe\n",
    "bk_df_col_means = bk_df.mean(axis=0,skipna = True)\n",
    "bk_df_row_means = bk_df.mean(axis=1,skipna = True)\n",
    "print(bk_df_col_means)\n",
    "print(bk_df_row_means[:6])"
   ]
  },
  {
   "cell_type": "markdown",
   "metadata": {},
   "source": [
    "break the dataset into \"train\" and \"test\""
   ]
  },
  {
   "cell_type": "code",
   "execution_count": 19,
   "metadata": {},
   "outputs": [
    {
     "name": "stdout",
     "output_type": "stream",
     "text": [
      "The Raw Average on the Training Set is: 3.4166666666666665\n",
      "\n",
      "The Raw Average on the Test Set is: 3.4285714285714284\n",
      "\n"
     ]
    }
   ],
   "source": [
    "#break the dataset into \"train\" and \"test\"\n",
    "from sklearn.model_selection import train_test_split\n",
    "bk_col_df = bk_df.stack()\n",
    "bk_col_df.head(30)\n",
    "\n",
    "bk_train, bk_test = train_test_split(bk_col_df, test_size =0.2)\n",
    "bk_train = bk_train.sort_index()\n",
    "bk_test = bk_test.sort_index()\n",
    "\n",
    "# calculate the raw average (mean) rating for every user-item combination. \n",
    "train_raw_ave = bk_train.mean()\n",
    "test_raw_ave = bk_test.mean()\n",
    "print(\"The Raw Average on the Training Set is: \" + str(train_raw_ave) + \"\\n\")\n",
    "print(\"The Raw Average on the Test Set is: \" + str(test_raw_ave) + \"\\n\")"
   ]
  },
  {
   "cell_type": "markdown",
   "metadata": {},
   "source": [
    "Recover the data frames into their original wide format and calculate the row and column averages to calculate the biases:"
   ]
  },
  {
   "cell_type": "code",
   "execution_count": 20,
   "metadata": {},
   "outputs": [
    {
     "name": "stdout",
     "output_type": "stream",
     "text": [
      "Artificial Intelligence: A Modern Approach    3.50\n",
      "Machine Learning                              2.75\n",
      "Natrual laguage Processing with Python        4.40\n",
      "R Cookbook                                    4.00\n",
      "The Master of Algorithm                       3.00\n",
      "Unnamed: 0                                    2.80\n",
      "dtype: float64\n",
      "0    2.800000\n",
      "1    4.000000\n",
      "2    3.333333\n",
      "3    3.600000\n",
      "4    3.400000\n",
      "5    3.800000\n",
      "dtype: float64\n"
     ]
    }
   ],
   "source": [
    "#for train data\n",
    "bk_train_wide = bk_train.unstack().sort_index()\n",
    "bk_train_col_means = bk_train_wide.mean(axis=0,skipna = True)\n",
    "print(str(bk_train_col_means))\n",
    "bk_train_row_means = bk_train_wide.mean(axis=1,skipna = True)\n",
    "print(str(bk_train_row_means[:6]))"
   ]
  },
  {
   "cell_type": "code",
   "execution_count": 21,
   "metadata": {},
   "outputs": [
    {
     "name": "stdout",
     "output_type": "stream",
     "text": [
      "The Master of Algorithm    3.000000\n",
      "Machine Learning           3.000000\n",
      "R Cookbook                 4.666667\n",
      "Unnamed: 0                 1.000000\n",
      "dtype: float64\n",
      "0    3.0\n",
      "1    3.0\n",
      "2    4.0\n",
      "4    5.0\n",
      "dtype: float64\n"
     ]
    }
   ],
   "source": [
    "#for test data\n",
    "bk_test_wide = bk_test.unstack().sort_index()\n",
    "bk_test_wide\n",
    "bk_test_col_means = bk_test_wide.mean(axis=0,skipna = True)\n",
    "print(str(bk_test_col_means))\n",
    "bk_test_row_means = bk_test_wide.mean(axis=1,skipna = True)\n",
    "print(str(bk_test_row_means[:6]))"
   ]
  },
  {
   "cell_type": "markdown",
   "metadata": {},
   "source": [
    "Calculate the RMSE for raw average for both my training data and your test data. "
   ]
  },
  {
   "cell_type": "code",
   "execution_count": 22,
   "metadata": {},
   "outputs": [
    {
     "name": "stdout",
     "output_type": "stream",
     "text": [
      "RMSE on the Training Set is: 1.1516895800904379\n",
      "\n",
      "RMSE on the Test Set is: 1.2936812246883354\n",
      "\n"
     ]
    }
   ],
   "source": [
    "from sklearn.metrics import mean_squared_error\n",
    "\n",
    "train_pred = [bk_train.mean()]*len(bk_train)\n",
    "train_pred\n",
    "train_rmse = mean_squared_error(bk_train, train_pred)**0.5\n",
    "print(\"RMSE on the Training Set is: \" + str(train_rmse) + \"\\n\")\n",
    "test_pred = [bk_train.mean()]*len(bk_test) \n",
    "test_pred\n",
    "test_rmse = mean_squared_error(bk_test, test_pred)**0.5\n",
    "print(\"RMSE on the Test Set is: \" + str(test_rmse) + \"\\n\")"
   ]
  },
  {
   "cell_type": "markdown",
   "metadata": {},
   "source": [
    "Using my training data, calculate the bias for each user and each item. "
   ]
  },
  {
   "cell_type": "code",
   "execution_count": 23,
   "metadata": {},
   "outputs": [
    {
     "name": "stdout",
     "output_type": "stream",
     "text": [
      "Artificial Intelligence: A Modern Approach    0.083333\n",
      "Machine Learning                             -0.666667\n",
      "Natrual laguage Processing with Python        0.983333\n",
      "R Cookbook                                    0.583333\n",
      "The Master of Algorithm                      -0.416667\n",
      "Unnamed: 0                                   -0.616667\n",
      "dtype: float64\n",
      "0   -0.616667\n",
      "1    0.583333\n",
      "2   -0.083333\n",
      "3    0.183333\n",
      "4   -0.016667\n",
      "5    0.383333\n",
      "dtype: float64\n"
     ]
    },
    {
     "data": {
      "text/html": [
       "<div>\n",
       "<style scoped>\n",
       "    .dataframe tbody tr th:only-of-type {\n",
       "        vertical-align: middle;\n",
       "    }\n",
       "\n",
       "    .dataframe tbody tr th {\n",
       "        vertical-align: top;\n",
       "    }\n",
       "\n",
       "    .dataframe thead th {\n",
       "        text-align: right;\n",
       "    }\n",
       "</style>\n",
       "<table border=\"1\" class=\"dataframe\">\n",
       "  <thead>\n",
       "    <tr style=\"text-align: right;\">\n",
       "      <th></th>\n",
       "      <th>Artificial Intelligence: A Modern Approach</th>\n",
       "      <th>Machine Learning</th>\n",
       "      <th>Natrual laguage Processing with Python</th>\n",
       "      <th>R Cookbook</th>\n",
       "      <th>The Master of Algorithm</th>\n",
       "      <th>Unnamed: 0</th>\n",
       "    </tr>\n",
       "  </thead>\n",
       "  <tbody>\n",
       "    <tr>\n",
       "      <th>0</th>\n",
       "      <td>2.88333</td>\n",
       "      <td>2.13333</td>\n",
       "      <td>3.78333</td>\n",
       "      <td>3.38333</td>\n",
       "      <td>2.38333</td>\n",
       "      <td>2.18333</td>\n",
       "    </tr>\n",
       "    <tr>\n",
       "      <th>1</th>\n",
       "      <td>4.08333</td>\n",
       "      <td>3.33333</td>\n",
       "      <td>4.98333</td>\n",
       "      <td>4.58333</td>\n",
       "      <td>3.58333</td>\n",
       "      <td>3.38333</td>\n",
       "    </tr>\n",
       "    <tr>\n",
       "      <th>2</th>\n",
       "      <td>3.41667</td>\n",
       "      <td>2.66667</td>\n",
       "      <td>4.31667</td>\n",
       "      <td>3.91667</td>\n",
       "      <td>2.91667</td>\n",
       "      <td>2.71667</td>\n",
       "    </tr>\n",
       "    <tr>\n",
       "      <th>3</th>\n",
       "      <td>3.68333</td>\n",
       "      <td>2.93333</td>\n",
       "      <td>4.58333</td>\n",
       "      <td>4.18333</td>\n",
       "      <td>3.18333</td>\n",
       "      <td>2.98333</td>\n",
       "    </tr>\n",
       "    <tr>\n",
       "      <th>4</th>\n",
       "      <td>3.48333</td>\n",
       "      <td>2.73333</td>\n",
       "      <td>4.38333</td>\n",
       "      <td>3.98333</td>\n",
       "      <td>2.98333</td>\n",
       "      <td>2.78333</td>\n",
       "    </tr>\n",
       "    <tr>\n",
       "      <th>5</th>\n",
       "      <td>3.88333</td>\n",
       "      <td>3.13333</td>\n",
       "      <td>4.78333</td>\n",
       "      <td>4.38333</td>\n",
       "      <td>3.38333</td>\n",
       "      <td>3.18333</td>\n",
       "    </tr>\n",
       "  </tbody>\n",
       "</table>\n",
       "</div>"
      ],
      "text/plain": [
       "  Artificial Intelligence: A Modern Approach Machine Learning  \\\n",
       "0                                    2.88333          2.13333   \n",
       "1                                    4.08333          3.33333   \n",
       "2                                    3.41667          2.66667   \n",
       "3                                    3.68333          2.93333   \n",
       "4                                    3.48333          2.73333   \n",
       "5                                    3.88333          3.13333   \n",
       "\n",
       "  Natrual laguage Processing with Python R Cookbook The Master of Algorithm  \\\n",
       "0                                3.78333    3.38333                 2.38333   \n",
       "1                                4.98333    4.58333                 3.58333   \n",
       "2                                4.31667    3.91667                 2.91667   \n",
       "3                                4.58333    4.18333                 3.18333   \n",
       "4                                4.38333    3.98333                 2.98333   \n",
       "5                                4.78333    4.38333                 3.38333   \n",
       "\n",
       "  Unnamed: 0  \n",
       "0    2.18333  \n",
       "1    3.38333  \n",
       "2    2.71667  \n",
       "3    2.98333  \n",
       "4    2.78333  \n",
       "5    3.18333  "
      ]
     },
     "execution_count": 23,
     "metadata": {},
     "output_type": "execute_result"
    }
   ],
   "source": [
    "#Using my training data, calculate the bias for each user and each item.\n",
    "show_bias = bk_train_col_means - train_raw_ave \n",
    "print(show_bias)\n",
    "user_bias = bk_train_row_means - train_raw_ave \n",
    "print(user_bias[:6]) \n",
    "\n",
    "#From the raw average, and the appropriate user and item biases, \n",
    "#calculate the baseline predictors for every user-item combination. \n",
    "bk_pred = pd.DataFrame(index=bk_df.index, columns=bk_df.columns.values)\n",
    "for i in range(0,len(user_bias)):\n",
    "    for j in range(0,len(show_bias)):\n",
    "            bk_pred.iloc[i,j] = train_raw_ave + user_bias[i] + show_bias[j]\n",
    "            if bk_pred.iloc[i,j] < 1.0:\n",
    "                bk_pred.iloc[i,j] = 1.0\n",
    "            elif bk_pred.iloc[i,j] > 5.0:\n",
    "                tv_pred.iloc[i,j] = 5.0\n",
    "bk_pred.head(6)"
   ]
  },
  {
   "cell_type": "code",
   "execution_count": 31,
   "metadata": {},
   "outputs": [
    {
     "data": {
      "text/html": [
       "<div>\n",
       "<style scoped>\n",
       "    .dataframe tbody tr th:only-of-type {\n",
       "        vertical-align: middle;\n",
       "    }\n",
       "\n",
       "    .dataframe tbody tr th {\n",
       "        vertical-align: top;\n",
       "    }\n",
       "\n",
       "    .dataframe thead th {\n",
       "        text-align: right;\n",
       "    }\n",
       "</style>\n",
       "<table border=\"1\" class=\"dataframe\">\n",
       "  <thead>\n",
       "    <tr style=\"text-align: right;\">\n",
       "      <th></th>\n",
       "      <th>Artificial Intelligence: A Modern Approach</th>\n",
       "      <th>Machine Learning</th>\n",
       "      <th>Natrual laguage Processing with Python</th>\n",
       "      <th>R Cookbook</th>\n",
       "      <th>The Master of Algorithm</th>\n",
       "      <th>Unnamed: 0</th>\n",
       "    </tr>\n",
       "  </thead>\n",
       "  <tbody>\n",
       "    <tr>\n",
       "      <th>0</th>\n",
       "      <td>2.88333</td>\n",
       "      <td>2.13333</td>\n",
       "      <td>3.78333</td>\n",
       "      <td>3.38333</td>\n",
       "      <td>NaN</td>\n",
       "      <td>2.18333</td>\n",
       "    </tr>\n",
       "    <tr>\n",
       "      <th>1</th>\n",
       "      <td>NaN</td>\n",
       "      <td>NaN</td>\n",
       "      <td>4.98333</td>\n",
       "      <td>NaN</td>\n",
       "      <td>NaN</td>\n",
       "      <td>NaN</td>\n",
       "    </tr>\n",
       "    <tr>\n",
       "      <th>2</th>\n",
       "      <td>NaN</td>\n",
       "      <td>NaN</td>\n",
       "      <td>4.31667</td>\n",
       "      <td>NaN</td>\n",
       "      <td>2.91667</td>\n",
       "      <td>2.71667</td>\n",
       "    </tr>\n",
       "    <tr>\n",
       "      <th>3</th>\n",
       "      <td>3.68333</td>\n",
       "      <td>2.93333</td>\n",
       "      <td>4.58333</td>\n",
       "      <td>4.18333</td>\n",
       "      <td>NaN</td>\n",
       "      <td>2.98333</td>\n",
       "    </tr>\n",
       "    <tr>\n",
       "      <th>4</th>\n",
       "      <td>3.48333</td>\n",
       "      <td>2.73333</td>\n",
       "      <td>4.38333</td>\n",
       "      <td>NaN</td>\n",
       "      <td>2.98333</td>\n",
       "      <td>2.78333</td>\n",
       "    </tr>\n",
       "    <tr>\n",
       "      <th>5</th>\n",
       "      <td>3.88333</td>\n",
       "      <td>3.13333</td>\n",
       "      <td>NaN</td>\n",
       "      <td>4.38333</td>\n",
       "      <td>3.38333</td>\n",
       "      <td>3.18333</td>\n",
       "    </tr>\n",
       "  </tbody>\n",
       "</table>\n",
       "</div>"
      ],
      "text/plain": [
       "  Artificial Intelligence: A Modern Approach Machine Learning  \\\n",
       "0                                    2.88333          2.13333   \n",
       "1                                        NaN              NaN   \n",
       "2                                        NaN              NaN   \n",
       "3                                    3.68333          2.93333   \n",
       "4                                    3.48333          2.73333   \n",
       "5                                    3.88333          3.13333   \n",
       "\n",
       "  Natrual laguage Processing with Python R Cookbook The Master of Algorithm  \\\n",
       "0                                3.78333    3.38333                     NaN   \n",
       "1                                4.98333        NaN                     NaN   \n",
       "2                                4.31667        NaN                 2.91667   \n",
       "3                                4.58333    4.18333                     NaN   \n",
       "4                                4.38333        NaN                 2.98333   \n",
       "5                                    NaN    4.38333                 3.38333   \n",
       "\n",
       "  Unnamed: 0  \n",
       "0    2.18333  \n",
       "1        NaN  \n",
       "2    2.71667  \n",
       "3    2.98333  \n",
       "4    2.78333  \n",
       "5    3.18333  "
      ]
     },
     "execution_count": 31,
     "metadata": {},
     "output_type": "execute_result"
    }
   ],
   "source": [
    "import math\n",
    "bk_pred_train = pd.DataFrame(index=bk_df.index, columns=bk_df.columns.values)\n",
    "bk_pred_train = bk_pred_train[sorted(bk_pred_train.columns)]\n",
    "bk_train_wide = bk_train_wide[sorted(bk_train_wide.columns)]\n",
    "for i in range(0,len(user_bias)):\n",
    "    for j in range(0,len(show_bias)):\n",
    "        if math.isnan(bk_train_wide.iloc[i,j]):\n",
    "            continue\n",
    "        else:\n",
    "            bk_pred_train.iloc[i,j] = train_raw_ave + user_bias[i] + show_bias[j]\n",
    "            if bk_pred_train.iloc[i,j] < 1.0:\n",
    "                bk_pred_train.iloc[i,j] = 1.0\n",
    "            elif bk_pred_train.iloc[i,j] > 5.0:\n",
    "                bk_pred_train.iloc[i,j] = 5.0\n",
    "bk_pred_train.head(6)"
   ]
  },
  {
   "cell_type": "code",
   "execution_count": 44,
   "metadata": {
    "scrolled": false
   },
   "outputs": [
    {
     "name": "stdout",
     "output_type": "stream",
     "text": [
      "RMSE on the Training Set is: 0.8815233027738593\n",
      "\n"
     ]
    }
   ],
   "source": [
    "train_base_rmse = mean_squared_error(bk_train, bk_pred_train.stack().sort_index())**0.5\n",
    "print(\"RMSE on the Training Set is: \" + str(train_bias_rmse) + \"\\n\")"
   ]
  },
  {
   "cell_type": "code",
   "execution_count": 37,
   "metadata": {},
   "outputs": [
    {
     "data": {
      "text/html": [
       "<div>\n",
       "<style scoped>\n",
       "    .dataframe tbody tr th:only-of-type {\n",
       "        vertical-align: middle;\n",
       "    }\n",
       "\n",
       "    .dataframe tbody tr th {\n",
       "        vertical-align: top;\n",
       "    }\n",
       "\n",
       "    .dataframe thead th {\n",
       "        text-align: right;\n",
       "    }\n",
       "</style>\n",
       "<table border=\"1\" class=\"dataframe\">\n",
       "  <thead>\n",
       "    <tr style=\"text-align: right;\">\n",
       "      <th></th>\n",
       "      <th>Machine Learning</th>\n",
       "      <th>R Cookbook</th>\n",
       "      <th>The Master of Algorithm</th>\n",
       "      <th>Unnamed: 0</th>\n",
       "    </tr>\n",
       "  </thead>\n",
       "  <tbody>\n",
       "    <tr>\n",
       "      <th>0</th>\n",
       "      <td>NaN</td>\n",
       "      <td>NaN</td>\n",
       "      <td>3.0</td>\n",
       "      <td>NaN</td>\n",
       "    </tr>\n",
       "    <tr>\n",
       "      <th>1</th>\n",
       "      <td>3.0</td>\n",
       "      <td>5.0</td>\n",
       "      <td>3.0</td>\n",
       "      <td>1.0</td>\n",
       "    </tr>\n",
       "    <tr>\n",
       "      <th>2</th>\n",
       "      <td>NaN</td>\n",
       "      <td>4.0</td>\n",
       "      <td>NaN</td>\n",
       "      <td>NaN</td>\n",
       "    </tr>\n",
       "    <tr>\n",
       "      <th>3</th>\n",
       "      <td>NaN</td>\n",
       "      <td>NaN</td>\n",
       "      <td>NaN</td>\n",
       "      <td>NaN</td>\n",
       "    </tr>\n",
       "    <tr>\n",
       "      <th>4</th>\n",
       "      <td>NaN</td>\n",
       "      <td>5.0</td>\n",
       "      <td>NaN</td>\n",
       "      <td>NaN</td>\n",
       "    </tr>\n",
       "    <tr>\n",
       "      <th>5</th>\n",
       "      <td>NaN</td>\n",
       "      <td>NaN</td>\n",
       "      <td>NaN</td>\n",
       "      <td>NaN</td>\n",
       "    </tr>\n",
       "  </tbody>\n",
       "</table>\n",
       "</div>"
      ],
      "text/plain": [
       "   Machine Learning  R Cookbook  The Master of Algorithm  Unnamed: 0\n",
       "0               NaN         NaN                      3.0         NaN\n",
       "1               3.0         5.0                      3.0         1.0\n",
       "2               NaN         4.0                      NaN         NaN\n",
       "3               NaN         NaN                      NaN         NaN\n",
       "4               NaN         5.0                      NaN         NaN\n",
       "5               NaN         NaN                      NaN         NaN"
      ]
     },
     "execution_count": 37,
     "metadata": {},
     "output_type": "execute_result"
    }
   ],
   "source": [
    "bk_pred_test = pd.DataFrame(index=bk_df.index, columns=bk_df.columns.values)\n",
    "bk_pred_test = bk_pred_test[sorted(bk_pred_test.columns)]\n",
    "bk_test_wide = bk_test_wide[sorted(bk_test_wide.columns)]\n",
    "bk_test_wide = bk_test_wide.reindex(bk_df.index)\n",
    "\n",
    "for l in range(0,len(user_bias)):\n",
    "    for k in range(0,len(show_bias)):\n",
    "        if math.isnan(bk_test_wide.iloc[l,k]):\n",
    "            #continue\n",
    "        else:\n",
    "            bk_pred_test.iloc[l,k] = test_raw_ave + user_bias[l] + show_bias[k]\n",
    "              if bk_pred_test.iloc[l,k] < 1.0:\n",
    "                bk_pred_test.iloc[l,k] = 1.0\n",
    "            elif bk_pred_test.iloc[l,k] > 5.0:\n",
    "                bk_pred_test.iloc[l,k] = 5.0\n",
    "bk_pred_test.head(6)"
   ]
  },
  {
   "cell_type": "code",
   "execution_count": 46,
   "metadata": {},
   "outputs": [],
   "source": [
    "test_base_rmse = mean_squared_error(bk_test, bk_pred_test.stack().sort_index())**0.5\n",
    "print(\"RMSE on the Test Set is: \" + str(test_bias_rmse) + \"\\n\")"
   ]
  },
  {
   "cell_type": "markdown",
   "metadata": {},
   "source": [
    "Summary"
   ]
  },
  {
   "cell_type": "markdown",
   "metadata": {},
   "source": [
    "Lets calculate the percentage improvements based on the original (simple average) and baseline predictor (including bias) RMSE numbers for both Test and Train data sets.\n",
    "\n",
    "The results show that we see a 23.47% improvement in making a prediction for the ratings in the Training data set. Where as we see only 26.358% improvement in prediction for the Test data set. Both are positive hoewver the Training data set yielded better prediction.\n"
   ]
  },
  {
   "cell_type": "code",
   "execution_count": 4,
   "metadata": {},
   "outputs": [
    {
     "data": {
      "text/plain": [
       "23.478260869565215"
      ]
     },
     "execution_count": 4,
     "metadata": {},
     "output_type": "execute_result"
    }
   ],
   "source": [
    "\n",
    "# Train data set\n",
    "\n",
    "Per_Improv_Train = (1-(0.88/1.15))*100  #(1-(RMSE_BASE_TRAIN/RMSE_TRAIN))*100\n",
    "Per_Improv_Train\n",
    "\n"
   ]
  },
  {
   "cell_type": "code",
   "execution_count": 5,
   "metadata": {},
   "outputs": [
    {
     "data": {
      "text/plain": [
       "26.356589147286826"
      ]
     },
     "execution_count": 5,
     "metadata": {},
     "output_type": "execute_result"
    }
   ],
   "source": [
    "# Test data set\n",
    "\n",
    "\n",
    "Per_Improv_Test = (1-(0.95/1.29))*100  ## (1-(RMSE_BASE_TEST/RMSE_TEST))\n",
    "Per_Improv_Test\n",
    "\n"
   ]
  },
  {
   "cell_type": "code",
   "execution_count": null,
   "metadata": {},
   "outputs": [],
   "source": []
  }
 ],
 "metadata": {
  "kernelspec": {
   "display_name": "Python 3",
   "language": "python",
   "name": "python3"
  },
  "language_info": {
   "codemirror_mode": {
    "name": "ipython",
    "version": 3
   },
   "file_extension": ".py",
   "mimetype": "text/x-python",
   "name": "python",
   "nbconvert_exporter": "python",
   "pygments_lexer": "ipython3",
   "version": "3.6.5"
  }
 },
 "nbformat": 4,
 "nbformat_minor": 2
}
